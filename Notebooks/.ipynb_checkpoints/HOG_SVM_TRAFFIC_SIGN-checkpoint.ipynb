{
 "cells": [
  {
   "cell_type": "markdown",
   "metadata": {},
   "source": [
    "# Multi-class (Nonlinear) SVM Example\n",
    "--------------------------------\n",
    "\n",
    "This function wll illustrate how to implement the gaussian kernel with multiple classes on the iris dataset.\n",
    "\n",
    "Gaussian Kernel:\n",
    "\n",
    "$$K(x_1, x_2) = e^{-\\gamma \\cdot (x_1 - x_2)^2}$$\n",
    "\n",
    "X : (Sepal Length, Petal Width)\n",
    "\n",
    "Y: (I. setosa, I. virginica, I. versicolor) (3 classes)\n",
    "\n",
    "Basic idea: introduce an extra dimension to do one vs all classification.\n",
    "\n",
    "The prediction of a point will be the category with the largest margin or distance to boundary.\n",
    "\n",
    "We start by loading the necessary libraries."
   ]
  },
  {
   "cell_type": "code",
   "execution_count": 44,
   "metadata": {
    "collapsed": true
   },
   "outputs": [],
   "source": [
    "import matplotlib.pyplot as plt\n",
    "import numpy as np\n",
    "import tensorflow as tf\n",
    "from sklearn import datasets\n",
    "from tensorflow.python.framework import ops\n",
    "ops.reset_default_graph()"
   ]
  },
  {
   "cell_type": "code",
   "execution_count": 26,
   "metadata": {
    "collapsed": true
   },
   "outputs": [],
   "source": [
    "import pandas as pd\n",
    "\n",
    "data = pd.read_csv('data.csv')"
   ]
  },
  {
   "cell_type": "code",
   "execution_count": 101,
   "metadata": {},
   "outputs": [
    {
     "name": "stdout",
     "output_type": "stream",
     "text": [
      "(2, 3509)\n"
     ]
    }
   ],
   "source": [
    "X = data.iloc[:,:3781]\n",
    "y = data.iloc[:,3781]\n",
    "y = np.array(y).reshape([-1,1])\n",
    "\n",
    "num_classes = np.max(y)\n",
    "min_in_y = np.min(y)\n",
    "# print(num_classes)\n",
    "# print(min_in_y)\n",
    "# print(y[2069,0])\n",
    "\n",
    "y_vals = []\n",
    "\n",
    "for i in range((int)(num_classes)):\n",
    "    y_t = np.zeros((1,y.shape[0]))\n",
    "    y_t[:] = -1\n",
    "    indices = np.where(y == (i+1))\n",
    "    #print(indices)\n",
    "    y_t[0,indices[0]] = 1\n",
    "    y_vals.append(y_t)\n",
    "y_vals = np.array(y_vals).reshape([(int)(num_classes),y.shape[0]])\n",
    "x_vals = np.array(X)\n",
    "print(y_vals.shape)"
   ]
  },
  {
   "cell_type": "markdown",
   "metadata": {},
   "source": [
    "Start a computational graph session."
   ]
  },
  {
   "cell_type": "code",
   "execution_count": 128,
   "metadata": {
    "collapsed": true
   },
   "outputs": [],
   "source": [
    "tf.reset_default_graph()\n",
    "sess = tf.Session()"
   ]
  },
  {
   "cell_type": "markdown",
   "metadata": {},
   "source": [
    "Now we load the iris data."
   ]
  },
  {
   "cell_type": "code",
   "execution_count": 129,
   "metadata": {
    "collapsed": true
   },
   "outputs": [],
   "source": [
    "# Load the data\n",
    "# iris.data = [(Sepal Length, Sepal Width, Petal Length, Petal Width)]\n",
    "# iris = datasets.load_iris()\n",
    "# x_vals = np.array([[x[0], x[3]] for x in iris.data])\n",
    "# y_vals1 = np.array([1 if y==0 else -1 for y in iris.target])\n",
    "# y_vals2 = np.array([1 if y==1 else -1 for y in iris.target])\n",
    "# y_vals3 = np.array([1 if y==2 else -1 for y in iris.target])\n",
    "# y_vals = np.array([y_vals1, y_vals2, y_vals3])\n",
    "# print(y_vals.shape)\n",
    "# print(x_vals.shape)\n",
    "# class1_x = [x[0] for i,x in enumerate(x_vals) if iris.target[i]==0]\n",
    "# class1_y = [x[1] for i,x in enumerate(x_vals) if iris.target[i]==0]\n",
    "# class2_x = [x[0] for i,x in enumerate(x_vals) if iris.target[i]==1]\n",
    "# class2_y = [x[1] for i,x in enumerate(x_vals) if iris.target[i]==1]\n",
    "# class3_x = [x[0] for i,x in enumerate(x_vals) if iris.target[i]==2]\n",
    "# class3_y = [x[1] for i,x in enumerate(x_vals) if iris.target[i]==2]"
   ]
  },
  {
   "cell_type": "markdown",
   "metadata": {},
   "source": [
    "Declare the batch size"
   ]
  },
  {
   "cell_type": "code",
   "execution_count": 130,
   "metadata": {
    "collapsed": true
   },
   "outputs": [],
   "source": [
    "batch_size = 1000"
   ]
  },
  {
   "cell_type": "markdown",
   "metadata": {},
   "source": [
    "Initialize placeholders and create the variables for multiclass SVM"
   ]
  },
  {
   "cell_type": "code",
   "execution_count": 131,
   "metadata": {
    "collapsed": true
   },
   "outputs": [],
   "source": [
    "num_features = x_vals.shape[1]\n",
    "num_classes = (int)(num_classes)\n",
    "\n",
    "# Initialize placeholders\n",
    "x_data = tf.placeholder(shape=[None, num_features], dtype=tf.float32)\n",
    "y_target = tf.placeholder(shape=[num_classes, None], dtype=tf.float32)\n",
    "prediction_grid = tf.placeholder(shape=[None, num_features], dtype=tf.float32)\n",
    "\n",
    "# Create variables for svm\n",
    "b = tf.Variable(tf.random_normal(shape=[num_classes,batch_size]))"
   ]
  },
  {
   "cell_type": "markdown",
   "metadata": {},
   "source": [
    "Create the Gaussian Kernel"
   ]
  },
  {
   "cell_type": "code",
   "execution_count": 132,
   "metadata": {
    "collapsed": true
   },
   "outputs": [],
   "source": [
    "# ---Gaussian (RBF) kernel---\n",
    "# gamma = tf.constant(-50.0)\n",
    "# dist = tf.reduce_sum(tf.square(x_data), 1)\n",
    "# dist = tf.reshape(dist, [-1,1])\n",
    "# sq_dists = tf.multiply(2., tf.matmul(x_data, tf.transpose(x_data)))\n",
    "# my_kernel = tf.exp(tf.multiply(gamma, tf.abs(sq_dists)))\n",
    "\n",
    "# ---Linear kernel---\n",
    "my_kernel = tf.matmul(x_data,tf.transpose(x_data))"
   ]
  },
  {
   "cell_type": "markdown",
   "metadata": {},
   "source": [
    "Declare a function that will do reshaping and batch matrix multiplication"
   ]
  },
  {
   "cell_type": "code",
   "execution_count": 133,
   "metadata": {
    "collapsed": true
   },
   "outputs": [],
   "source": [
    "# Declare function to do reshape/batch multiplication\n",
    "def reshape_matmul(mat, _size):\n",
    "    v1 = tf.expand_dims(mat, 1)\n",
    "    v2 = tf.reshape(v1, [num_classes, _size, 1])\n",
    "    return(tf.matmul(v2, v1))"
   ]
  },
  {
   "cell_type": "markdown",
   "metadata": {},
   "source": [
    "Now we can compute the SVM model"
   ]
  },
  {
   "cell_type": "code",
   "execution_count": 134,
   "metadata": {
    "collapsed": true
   },
   "outputs": [],
   "source": [
    "# Compute SVM Model\n",
    "first_term = tf.reduce_sum(b)\n",
    "b_vec_cross = tf.matmul(tf.transpose(b), b)\n",
    "y_target_cross = reshape_matmul(y_target, batch_size)\n",
    "\n",
    "second_term = tf.reduce_sum(tf.multiply(my_kernel, tf.multiply(b_vec_cross, y_target_cross)),[1,2])\n",
    "loss = tf.reduce_sum(tf.negative(tf.subtract(first_term, second_term)))"
   ]
  },
  {
   "cell_type": "markdown",
   "metadata": {},
   "source": [
    "Create the same RBF kernel for a set of prediction points (used on a grid of points at the end)."
   ]
  },
  {
   "cell_type": "code",
   "execution_count": 135,
   "metadata": {
    "collapsed": true
   },
   "outputs": [],
   "source": [
    "# ---Gaussian (RBF) prediction kernel---\n",
    "# rA = tf.reshape(tf.reduce_sum(tf.square(x_data), 1),[-1,1])\n",
    "# rB = tf.reshape(tf.reduce_sum(tf.square(prediction_grid), 1),[-1,1])\n",
    "# pred_sq_dist = tf.add(tf.subtract(rA, tf.multiply(2., tf.matmul(x_data, tf.transpose(prediction_grid)))), tf.transpose(rB))\n",
    "# pred_kernel = tf.exp(tf.multiply(gamma, tf.abs(pred_sq_dist)))\n",
    "\n",
    "# ---Linear kernel---\n",
    "pred_kernel = tf.matmul(x_data,tf.transpose(prediction_grid))\n",
    "\n",
    "prediction_output = tf.matmul(tf.multiply(y_target,b), pred_kernel)\n",
    "prediction = tf.argmax(prediction_output-tf.expand_dims(tf.reduce_mean(prediction_output,1), 1), 0)\n",
    "accuracy = tf.reduce_mean(tf.cast(tf.equal(prediction, tf.argmax(y_target,0)), tf.float32))"
   ]
  },
  {
   "cell_type": "markdown",
   "metadata": {},
   "source": [
    "Create the optimization and variable initializer operations."
   ]
  },
  {
   "cell_type": "code",
   "execution_count": 136,
   "metadata": {
    "collapsed": true
   },
   "outputs": [],
   "source": [
    "# Declare optimizer\n",
    "my_opt = tf.train.AdamOptimizer(0.01)\n",
    "train_step = my_opt.minimize(loss)\n",
    "\n",
    "# Initialize variables\n",
    "init = tf.global_variables_initializer()\n",
    "sess.run(init)"
   ]
  },
  {
   "cell_type": "markdown",
   "metadata": {},
   "source": [
    "We now start the training loop for the multiclass SVM"
   ]
  },
  {
   "cell_type": "code",
   "execution_count": 138,
   "metadata": {},
   "outputs": [
    {
     "name": "stdout",
     "output_type": "stream",
     "text": [
      "3\n",
      "Step #1\n",
      "Loss = 15588607146.666666\n",
      "Accuracy = 0.6446666643023491\n",
      "3\n",
      "Step #2\n",
      "Loss = 4735981226.666667\n",
      "Accuracy = 0.9043333331743876\n",
      "3\n",
      "Step #3\n",
      "Loss = 12674357930.666666\n",
      "Accuracy = 0.9103333552678426\n",
      "3\n",
      "Step #4\n",
      "Loss = 7625654101.333333\n",
      "Accuracy = 0.6416666582226753\n",
      "3\n",
      "Step #5\n",
      "Loss = 29983958528.0\n",
      "Accuracy = 0.08600000043710072\n",
      "3\n",
      "Step #6\n",
      "Loss = 15144105552.0\n",
      "Accuracy = 0.367999995748202\n",
      "3\n",
      "Step #7\n",
      "Loss = 6210845226.666667\n",
      "Accuracy = 0.6393333300948143\n",
      "3\n",
      "Step #8\n",
      "Loss = 25440385365.333332\n",
      "Accuracy = 0.36500000208616257\n",
      "3\n",
      "Step #9\n",
      "Loss = 10828285226.666666\n",
      "Accuracy = 0.09166666616996129\n",
      "3\n",
      "Step #10\n",
      "Loss = 15334050773.333334\n",
      "Accuracy = 0.9089999993642172\n"
     ]
    }
   ],
   "source": [
    "# Training loop\n",
    "loss_vec = []\n",
    "batch_accuracy = []\n",
    "num_epochs = 10\n",
    "for i in range(num_epochs):\n",
    "    num_batches = (int)(x_vals.shape[0]/batch_size)\n",
    "    print(num_batches)\n",
    "    t_loss = 0.0\n",
    "    t_acc = 0.0\n",
    "    perms = np.random.permutation(x_vals.shape[0])\n",
    "    x_vals_shuffled = x_vals[perms,:]\n",
    "    y_vals_shuffled = y_vals[:,perms]\n",
    "    \n",
    "    for j in range(num_batches):\n",
    "        rand_x = x_vals_shuffled[j*batch_size:(j+1)*batch_size,:]\n",
    "        rand_y = y_vals_shuffled[:,j*batch_size:(j+1)*batch_size]\n",
    "#         print(rand_x.shape)\n",
    "#         print(rand_y.shape)\n",
    "    # rand_index = np.random.choice(len(x_vals), size=batch_size)\n",
    "    # rand_x = x_vals[rand_index]\n",
    "    # rand_y = y_vals[:,rand_index]\n",
    "        sess.run(train_step, feed_dict={x_data: rand_x, y_target: rand_y})\n",
    "#         print(\"HOLA\")\n",
    "        temp_loss = sess.run(loss, feed_dict={x_data: rand_x, y_target: rand_y})\n",
    "        t_loss+=temp_loss\n",
    "        acc_temp = sess.run(accuracy, feed_dict={x_data: rand_x,\n",
    "                                                 y_target: rand_y,\n",
    "                                                 prediction_grid:rand_x})\n",
    "        t_acc+=acc_temp\n",
    "    \n",
    "    t_loss/=(num_batches*1.0)\n",
    "    t_acc/=(num_batches*1.0)\n",
    "    \n",
    "    loss_vec.append(t_loss)\n",
    "    batch_accuracy.append(t_acc)\n",
    "    \n",
    "    print('Step #' + str(i+1))\n",
    "    print('Loss = ' + str(t_loss))\n",
    "    print('Accuracy = ' + str(t_acc))"
   ]
  },
  {
   "cell_type": "markdown",
   "metadata": {},
   "source": [
    "For a pretty picture, to see the results, we create a fine grid of points to label/color for each class."
   ]
  },
  {
   "cell_type": "code",
   "execution_count": 139,
   "metadata": {
    "collapsed": true
   },
   "outputs": [],
   "source": [
    "# # Create a mesh to plot points in\n",
    "# x_min, x_max = x_vals[:, 0].min() - 1, x_vals[:, 0].max() + 1\n",
    "# y_min, y_max = x_vals[:, 1].min() - 1, x_vals[:, 1].max() + 1\n",
    "# xx, yy = np.meshgrid(np.arange(x_min, x_max, 0.02),\n",
    "#                      np.arange(y_min, y_max, 0.02))\n",
    "# grid_points = np.c_[xx.ravel(), yy.ravel()]\n",
    "# grid_predictions = sess.run(prediction, feed_dict={x_data: rand_x,\n",
    "#                                                    y_target: rand_y,\n",
    "#                                                    prediction_grid: grid_points})\n",
    "# grid_predictions = grid_predictions.reshape(xx.shape)"
   ]
  },
  {
   "cell_type": "markdown",
   "metadata": {},
   "source": [
    "Plot the results"
   ]
  },
  {
   "cell_type": "code",
   "execution_count": 140,
   "metadata": {
    "collapsed": true
   },
   "outputs": [],
   "source": [
    "# # Plot points and grid\n",
    "# plt.contourf(xx, yy, grid_predictions, cmap=plt.cm.Paired, alpha=0.8)\n",
    "# plt.plot(class1_x, class1_y, 'ro', label='I. setosa')\n",
    "# plt.plot(class2_x, class2_y, 'kx', label='I. versicolor')\n",
    "# plt.plot(class3_x, class3_y, 'gv', label='I. virginica')\n",
    "# plt.title('Gaussian SVM Results on Iris Data')\n",
    "# plt.xlabel('Pedal Length')\n",
    "# plt.ylabel('Sepal Width')\n",
    "# plt.legend(loc='lower right')\n",
    "# plt.ylim([-0.5, 3.0])\n",
    "# plt.xlim([3.5, 8.5])\n",
    "# plt.show()\n",
    "\n",
    "# # Plot batch accuracy\n",
    "# plt.plot(batch_accuracy, 'k-', label='Accuracy')\n",
    "# plt.title('Batch Accuracy')\n",
    "# plt.xlabel('Generation')\n",
    "# plt.ylabel('Accuracy')\n",
    "# plt.legend(loc='lower right')\n",
    "# plt.show()\n",
    "\n",
    "# # Plot loss over time\n",
    "# plt.plot(loss_vec, 'k-')\n",
    "# plt.title('Loss per Generation')\n",
    "# plt.xlabel('Generation')\n",
    "# plt.ylabel('Loss')\n",
    "# plt.show()"
   ]
  },
  {
   "cell_type": "code",
   "execution_count": 141,
   "metadata": {},
   "outputs": [
    {
     "data": {
      "image/png": "[encoded data removed]",
      "text/plain": [
       "<Figure size 432x288 with 1 Axes>"
      ]
     },
     "metadata": {},
     "output_type": "display_data"
    },
    {
     "data": {
      "image/png": "[encoded data removed]",
      "text/plain": [
       "<Figure size 432x288 with 1 Axes>"
      ]
     },
     "metadata": {},
     "output_type": "display_data"
    }
   ],
   "source": [
    "epochs = [i for i in range(num_epochs)]\n",
    "plt.plot(epochs,loss_vec)\n",
    "plt.figure()\n",
    "plt.plot(epochs,batch_accuracy)\n",
    "plt.show()"
   ]
  },
  {
   "cell_type": "code",
   "execution_count": 113,
   "metadata": {},
   "outputs": [
    {
     "data": {
      "text/plain": [
       "[0.4716666539510091,\n",
       " 0.5169999996821085,\n",
       " 0.523333340883255,\n",
       " 0.48233333230018616,\n",
       " 0.5200000107288361,\n",
       " 0.4496666689713796,\n",
       " 0.4896666705608368,\n",
       " 0.4479999939600627,\n",
       " 0.44566667079925537,\n",
       " 0.4749999940395355,\n",
       " 0.4509999950726827,\n",
       " 0.45200000206629437,\n",
       " 0.4943333367506663,\n",
       " 0.4480000038941701,\n",
       " 0.4583333333333333,\n",
       " 0.45133333404858905,\n",
       " 0.4496666689713796,\n",
       " 0.44433332482973736,\n",
       " 0.4599999984105428,\n",
       " 0.454666664203008,\n",
       " 0.4586666723092397,\n",
       " 0.45900000135103863,\n",
       " 0.46399999658266705,\n",
       " 0.45366666714350384,\n",
       " 0.45633332928021747,\n",
       " 0.4699999888737996,\n",
       " 0.46833332379659015,\n",
       " 0.47433332602183026,\n",
       " 0.45633332928021747,\n",
       " 0.46966665983200073,\n",
       " 0.46700000762939453,\n",
       " 0.451666663090388,\n",
       " 0.4623333315054576,\n",
       " 0.46133333444595337,\n",
       " 0.45733333627382916,\n",
       " 0.46133334438006085,\n",
       " 0.45666666825612384,\n",
       " 0.46666666865348816,\n",
       " 0.4653333326180776,\n",
       " 0.5069999992847443,\n",
       " 0.46700000762939453,\n",
       " 0.47066666682561237,\n",
       " 0.46933334072430927,\n",
       " 0.46333332856496173,\n",
       " 0.4646666745344798,\n",
       " 0.46200000246365863,\n",
       " 0.4700000087420146,\n",
       " 0.47633334000905353,\n",
       " 0.4656666616598765,\n",
       " 0.46799999475479126,\n",
       " 0.4736666679382324,\n",
       " 0.4623333215713501,\n",
       " 0.46299999952316284,\n",
       " 0.4650000035762787,\n",
       " 0.4700000087420146,\n",
       " 0.46833333373069763,\n",
       " 0.4596666693687439,\n",
       " 0.4753333330154419,\n",
       " 0.4709999958674113,\n",
       " 0.4700000087420146,\n",
       " 0.46833333373069763,\n",
       " 0.4653333326180776,\n",
       " 0.47466667493184406,\n",
       " 0.4816666642824809,\n",
       " 0.47200000286102295,\n",
       " 0.46666666865348816,\n",
       " 0.4713333348433177,\n",
       " 0.46166667342185974,\n",
       " 0.4696666697661082,\n",
       " 0.46699999769528705,\n",
       " 0.46299999952316284,\n",
       " 0.46966665983200073,\n",
       " 0.47333332896232605,\n",
       " 0.4726666708787282,\n",
       " 0.46166666348775226,\n",
       " 0.46333332856496173,\n",
       " 0.4623333315054576,\n",
       " 0.46766666571299237,\n",
       " 0.46266666054725647,\n",
       " 0.4663333296775818,\n",
       " 0.47299999992052716,\n",
       " 0.4646666646003723,\n",
       " 0.4699999988079071,\n",
       " 0.47566667199134827,\n",
       " 0.4709999958674113,\n",
       " 0.47066666682561237,\n",
       " 0.4696666697661082,\n",
       " 0.5006666680177053,\n",
       " 0.4709999958674113,\n",
       " 0.46833333373069763,\n",
       " 0.4690000017484029,\n",
       " 0.4699999988079071,\n",
       " 0.46699999769528705,\n",
       " 0.478000005086263,\n",
       " 0.46399999658266705,\n",
       " 0.4736666679382324,\n",
       " 0.4686666627724965,\n",
       " 0.46799999475479126,\n",
       " 0.46633333961168927,\n",
       " 0.46966665983200073]"
      ]
     },
     "execution_count": 113,
     "metadata": {},
     "output_type": "execute_result"
    }
   ],
   "source": [
    "batch_accuracy"
   ]
  },
  {
   "cell_type": "code",
   "execution_count": 66,
   "metadata": {
    "collapsed": true
   },
   "outputs": [],
   "source": [
    "perms = np.random.permutation(x_vals.shape[0])\n",
    "x_vals_shuffled = x_vals[perms,:]\n",
    "y_vals_shuffled = y_vals[:,perms]"
   ]
  },
  {
   "cell_type": "code",
   "execution_count": 67,
   "metadata": {},
   "outputs": [
    {
     "data": {
      "text/plain": [
       "(2, 3509)"
      ]
     },
     "execution_count": 67,
     "metadata": {},
     "output_type": "execute_result"
    }
   ],
   "source": [
    "y_vals_shuffled.shape"
   ]
  },
  {
   "cell_type": "code",
   "execution_count": null,
   "metadata": {
    "collapsed": true
   },
   "outputs": [],
   "source": []
  }
 ],
 "metadata": {
  "kernelspec": {
   "display_name": "Python (tensorflow)",
   "language": "python",
   "name": "tensorflow"
  },
  "language_info": {
   "codemirror_mode": {
    "name": "ipython",
    "version": 3
   },
   "file_extension": ".py",
   "mimetype": "text/x-python",
   "name": "python",
   "nbconvert_exporter": "python",
   "pygments_lexer": "ipython3",
   "version": "3.5.4"
  }
 },
 "nbformat": 4,
 "nbformat_minor": 2
}
